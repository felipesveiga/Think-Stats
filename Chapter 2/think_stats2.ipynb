{
 "cells": [
  {
   "cell_type": "markdown",
   "id": "f67325f4-9743-4604-aff5-8dfd910f1e04",
   "metadata": {
    "tags": []
   },
   "source": [
    "<h1 style='font-size:40px'> Distributions</h1>\n",
    "<div> \n",
    "    <ul style='font-size:20px'> \n",
    "        <li> \n",
    "            A Distribuição é a descrição sobre as frequências de valores pertencentes a uma ordenação.\n",
    "        </li>\n",
    "    </ul>\n",
    "</div>"
   ]
  },
  {
   "cell_type": "markdown",
   "id": "b93b8b24-0d39-4bd1-a221-4ae7edf252c0",
   "metadata": {},
   "source": [
    "<h2 style='font-size:30px'> NSFG Variables</h2>"
   ]
  },
  {
   "cell_type": "code",
   "execution_count": 10,
   "id": "86503b91-0f66-4736-852d-c3e94e875666",
   "metadata": {},
   "outputs": [
    {
     "data": {
      "text/plain": [
       "array([[<AxesSubplot:title={'center':'birthwgt_oz'}>]], dtype=object)"
      ]
     },
     "execution_count": 10,
     "metadata": {},
     "output_type": "execute_result"
    },
    {
     "data": {
      "image/png": "[encoded data removed]",
      "text/plain": [
       "<Figure size 432x288 with 1 Axes>"
      ]
     },
     "metadata": {
      "needs_background": "light"
     },
     "output_type": "display_data"
    },
    {
     "data": {
      "image/png": "[encoded data removed]",
      "text/plain": [
       "<Figure size 432x288 with 1 Axes>"
      ]
     },
     "metadata": {
      "needs_background": "light"
     },
     "output_type": "display_data"
    }
   ],
   "source": [
    "# Qual é a frequência de pesos entre os bebês nascidos?\n",
    "from nsfg import ReadFemPreg\n",
    "preg = ReadFemPreg()\n",
    "\n",
    "# Filtrando bebês que não vieram a nascer.\n",
    "live = preg[preg.outcome==1]\n",
    "\n",
    "# Montando o histograma (libras e onças).\n",
    "live.hist('birthwgt_lb', bins=10)\n",
    "live.hist('birthwgt_oz', bins=10)"
   ]
  },
  {
   "cell_type": "markdown",
   "id": "5e286c16-b19c-4399-90eb-4bcd3cf404fd",
   "metadata": {},
   "source": [
    "<div> \n",
    "    <ul style='font-size:20px'> \n",
    "        <li> \n",
    "            O histograma em libras se assemelha a uma distribuição Gaussiana (Normal) assimétrica, pois ele se estende mais à esquerda do que à direita.\n",
    "        </li>\n",
    "        <li> \n",
    "            Já o gráfico em onças tem quase todos os pesos com aproximadamente a mesma frequência; não há um valor para o qual a maior parte dos casos se convergem (como é o caso da Distribuição Gaussiana).\n",
    "        </li>\n",
    "    </ul>\n",
    "</div>"
   ]
  },
  {
   "cell_type": "markdown",
   "id": "1ced4de0-c3bd-4060-b0d5-48e8dd498b98",
   "metadata": {},
   "source": [
    "<h2 style='font-size:30px'> Outliers</h2>\n",
    "<div> \n",
    "    <ul style='font-size:20px'> \n",
    "        <li> \n",
    "            Outliers constituem valores extremos para certos atributos de nossos dados. Podem tanto se constituir em erros de registro, quanto casos verídicos, mas extremamente raros.\n",
    "        </li>\n",
    "        <li> \n",
    "            Não há uma maneira correta ideal de se lidar com esses casos; tudo depende do propósito da análise.\n",
    "        </li>\n",
    "    </ul>\n",
    "</div>"
   ]
  },
  {
   "cell_type": "code",
   "execution_count": 17,
   "id": "6c1fcbbc-fe71-4049-a4d8-07513066beeb",
   "metadata": {},
   "outputs": [
    {
     "name": "stdout",
     "output_type": "stream",
     "text": [
      "6458      0\n",
      "4108      4\n",
      "138       9\n",
      "11887    13\n",
      "8919     17\n",
      "10492    17\n",
      "541      18\n",
      "7762     19\n",
      "1041     20\n",
      "7800     21\n",
      "Name: prglngth, dtype: int64\n",
      "4783     50\n",
      "8998     50\n",
      "2416     48\n",
      "4920     48\n",
      "6889     48\n",
      "6890     48\n",
      "7158     48\n",
      "7161     48\n",
      "7592     48\n",
      "11357    47\n",
      "Name: prglngth, dtype: int64\n"
     ]
    },
    {
     "data": {
      "image/png": "[encoded data removed]",
      "text/plain": [
       "<Figure size 432x288 with 1 Axes>"
      ]
     },
     "metadata": {
      "needs_background": "light"
     },
     "output_type": "display_data"
    }
   ],
   "source": [
    "# Analisando outliers quanto ao número de semanas de gravidez.\n",
    "\n",
    "# Observe que a esmagadora maioria dos casos costuma ocorrer na 39 semana.\n",
    "live.hist('prglngth', bins=30)\n",
    "\n",
    "# Quais são as menores durações de gravidez registradas?\n",
    "print(live.prglngth.nsmallest(10))\n",
    "\n",
    "# E as maiores?\n",
    "print(live.prglngth.nlargest(10))"
   ]
  },
  {
   "cell_type": "markdown",
   "id": "e87bdf16-b35c-437a-99ae-c2abfb81a3c9",
   "metadata": {},
   "source": [
    "<div> \n",
    "    <ul style='font-size:20px'> \n",
    "        <li> \n",
    "            A análise do autor é voltada à possibilidade de os primeiros bebês nascerem mais cedo ou mais tarde do que o comum. Como queremos evitar casos de prematuros, focaremos nos nascimentos de 27 semanas para cima.\n",
    "        </li>\n",
    "    </ul>\n",
    "</div>"
   ]
  },
  {
   "cell_type": "markdown",
   "id": "49ae5214-e11f-4a7a-85b1-1b778365d7c2",
   "metadata": {},
   "source": [
    "<p style='color:red'> First Babies"
   ]
  }
 ],
 "metadata": {
  "kernelspec": {
   "display_name": "Python 3 (ipykernel)",
   "language": "python",
   "name": "python3"
  },
  "language_info": {
   "codemirror_mode": {
    "name": "ipython",
    "version": 3
   },
   "file_extension": ".py",
   "mimetype": "text/x-python",
   "name": "python",
   "nbconvert_exporter": "python",
   "pygments_lexer": "ipython3",
   "version": "3.8.10"
  }
 },
 "nbformat": 4,
 "nbformat_minor": 5
}
