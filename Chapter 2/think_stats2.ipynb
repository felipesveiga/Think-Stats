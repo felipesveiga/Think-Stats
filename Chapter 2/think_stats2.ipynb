{
 "cells": [
  {
   "cell_type": "markdown",
   "id": "f67325f4-9743-4604-aff5-8dfd910f1e04",
   "metadata": {
    "tags": []
   },
   "source": [
    "<h1 style='font-size:40px'> Distributions</h1>\n",
    "<div> \n",
    "    <ul style='font-size:20px'> \n",
    "        <li> \n",
    "            A Distribuição é a descrição das frequências de valores pertencentes a uma ordenação.\n",
    "        </li>\n",
    "    </ul>\n",
    "</div>"
   ]
  },
  {
   "cell_type": "markdown",
   "id": "49ae5214-e11f-4a7a-85b1-1b778365d7c2",
   "metadata": {},
   "source": [
    "<p style='color:red'> NSFG Variables"
   ]
  }
 ],
 "metadata": {
  "kernelspec": {
   "display_name": "Python 3 (ipykernel)",
   "language": "python",
   "name": "python3"
  },
  "language_info": {
   "codemirror_mode": {
    "name": "ipython",
    "version": 3
   },
   "file_extension": ".py",
   "mimetype": "text/x-python",
   "name": "python",
   "nbconvert_exporter": "python",
   "pygments_lexer": "ipython3",
   "version": "3.8.10"
  }
 },
 "nbformat": 4,
 "nbformat_minor": 5
}
