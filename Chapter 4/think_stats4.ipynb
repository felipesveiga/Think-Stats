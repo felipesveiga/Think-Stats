{
 "cells": [
  {
   "cell_type": "markdown",
   "id": "5e990b03-6274-4ca5-85da-f469f5dba134",
   "metadata": {},
   "source": [
    "<h1 style='font-size:40px'> Cumulative Distribution Functions</h1>"
   ]
  }
 ],
 "metadata": {
  "kernelspec": {
   "display_name": "Python 3 (ipykernel)",
   "language": "python",
   "name": "python3"
  },
  "language_info": {
   "codemirror_mode": {
    "name": "ipython",
    "version": 3
   },
   "file_extension": ".py",
   "mimetype": "text/x-python",
   "name": "python",
   "nbconvert_exporter": "python",
   "pygments_lexer": "ipython3",
   "version": "3.8.10"
  }
 },
 "nbformat": 4,
 "nbformat_minor": 5
}
