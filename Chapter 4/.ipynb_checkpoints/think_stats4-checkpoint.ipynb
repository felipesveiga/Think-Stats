{
 "cells": [
  {
   "cell_type": "markdown",
   "id": "5e990b03-6274-4ca5-85da-f469f5dba134",
   "metadata": {},
   "source": [
    "<h1 style='font-size:40px'> Cumulative Distribution Functions</h1>"
   ]
  },
  {
   "cell_type": "markdown",
   "id": "a4dd2116-3f6b-4665-8170-7d1e942c40e1",
   "metadata": {},
   "source": [
    "<h2 style='font-size:30px'> Percentiles</h2>\n",
    "<div> \n",
    "    <ul style='font-size:20px'>\n",
    "        <li> \n",
    "            Percentis indicam a portentagem de instâncias em uma ordenação que se encontram abaixo de um valor.\n",
    "        </li>\n",
    "    </ul>\n",
    "</div>"
   ]
  },
  {
   "cell_type": "code",
   "execution_count": 1,
   "id": "41a978e9-c8fd-4fab-ba28-112cb5a92180",
   "metadata": {},
   "outputs": [
    {
     "data": {
      "text/plain": [
       "(0.00043111858013362964, 0.00043111858013362964)"
      ]
     },
     "execution_count": 1,
     "metadata": {},
     "output_type": "execute_result"
    }
   ],
   "source": [
    "import numpy as np\n",
    "array = np.random.randint(0, 50, size=20)\n",
    "\n",
    "# O quintgésimo percentil (ou a mediana) do array é -0.0013.\n",
    "x = np.random.randn(10000)\n",
    "np.percentile(x, 50), np.median(x)"
   ]
  },
  {
   "cell_type": "markdown",
   "id": "06c179e5-67e9-4a85-a27d-e4df5f4ba33f",
   "metadata": {},
   "source": [
    "<h2 style='font-size:30px'> CDFs</h2>\n",
    "<div> \n",
    "    <ul style='font-size:20px'>\n",
    "        <li> \n",
    "            CDF's, assim como os percentis, quantificam a grandeza de um valor de uma ordenação em comparação com os demais. No entanto, a sua escala é de 0 a 100, e não 0 a 1.\n",
    "        </li>\n",
    "        <li> \n",
    "            Valores acima do máximo do array recebem CDF=1; os menores do que o mínimo, 0.\n",
    "        </li>\n",
    "    </ul>\n",
    "</div>"
   ]
  },
  {
   "cell_type": "code",
   "execution_count": 2,
   "id": "998ddd1a-dff5-4bfc-95a8-490914fb08dd",
   "metadata": {},
   "outputs": [
    {
     "data": {
      "text/plain": [
       "<AxesSubplot:>"
      ]
     },
     "execution_count": 2,
     "metadata": {},
     "output_type": "execute_result"
    },
    {
     "data": {
      "image/png": "[encoded data removed]",
      "text/plain": [
       "<Figure size 432x288 with 1 Axes>"
      ]
     },
     "metadata": {
      "needs_background": "light"
     },
     "output_type": "display_data"
    }
   ],
   "source": [
    "from scipy.stats import norm\n",
    "import seaborn as sns\n",
    "cdf = norm.cdf(x)\n",
    "sns.lineplot(x=x, y=cdf, drawstyle='steps')"
   ]
  },
  {
   "cell_type": "markdown",
   "id": "a10e4ff8-c85e-4d6a-a028-0e0957acf123",
   "metadata": {},
   "source": [
    "<h2 style='font-size:30px'> Representing CDF's</h2>\n",
    "<div> \n",
    "    <ul style='font-size:20px'>\n",
    "        <li> \n",
    "            Com os conceitos em mente, vamos montar um gráfico de CDF nos baseando nas durações de gravidez do NSFG.\n",
    "        </li>\n",
    "    </ul>\n",
    "</div>"
   ]
  },
  {
   "cell_type": "code",
   "execution_count": 51,
   "id": "47029b68-8287-4ef6-b125-f447c207b9da",
   "metadata": {},
   "outputs": [
    {
     "data": {
      "text/plain": [
       "[<matplotlib.lines.Line2D at 0x7fd1a8ab3b80>]"
      ]
     },
     "execution_count": 51,
     "metadata": {},
     "output_type": "execute_result"
    },
    {
     "data": {
      "image/png": "[encoded data removed]",
      "text/plain": [
       "<Figure size 720x288 with 1 Axes>"
      ]
     },
     "metadata": {
      "needs_background": "light"
     },
     "output_type": "display_data"
    }
   ],
   "source": [
    "import matplotlib.pyplot as plt\n",
    "percentile_values = [live.prglngth.quantile(i/100) for i in range(101)]\n",
    "\n",
    "# Podemos notar a escassez de gravidez abaixo das 30 semanas.\n",
    "# A reta vertical na marca de 39 semanas sinaliza a moda das durações de gravidez.\n",
    "plt.figure(figsize=(10,4))\n",
    "plt.step(percentile_values, list(range(101)))"
   ]
  },
  {
   "cell_type": "markdown",
   "id": "f808c26c-438b-4faa-9ff9-a4f1602334f4",
   "metadata": {},
   "source": [
    "<h2 style='font-size:30px'> Comparing CDF's</h2>\n",
    "<div> \n",
    "    <ul style='font-size:20px'>\n",
    "        <li> \n",
    "            Compararemos agora as CDF's de massa para primogêntios com outros bebês.\n",
    "        </li>\n",
    "    </ul>\n",
    "</div>"
   ]
  },
  {
   "cell_type": "code",
   "execution_count": 70,
   "id": "46e42ba9-41c6-4c7a-8823-2f47f7cf99a8",
   "metadata": {},
   "outputs": [
    {
     "data": {
      "text/plain": [
       "<matplotlib.legend.Legend at 0x7fd18e185370>"
      ]
     },
     "execution_count": 70,
     "metadata": {},
     "output_type": "execute_result"
    },
    {
     "data": {
      "image/png": "[encoded data removed]",
      "text/plain": [
       "<Figure size 720x288 with 1 Axes>"
      ]
     },
     "metadata": {
      "needs_background": "light"
     },
     "output_type": "display_data"
    }
   ],
   "source": [
    "# Segregando os grupos.\n",
    "first, others = live[live.birthord==1], live[live.birthord!=1]\n",
    "dfs = (first, others)\n",
    "labels =  ('First', 'Others')\n",
    "\n",
    "# Notamos que os primogênitos tendem a ser um pouco mais leves do que os seus sucessores.\n",
    "plt.figure(figsize=(10,4))\n",
    "for df, label in zip(dfs, labels):\n",
    "    percentile_values = [df.totalwgt_lb.quantile(i/100) for i in range(101)]\n",
    "    plt.step(percentile_values,list(range(101)), label=label)\n",
    "plt.legend()"
   ]
  },
  {
   "cell_type": "markdown",
   "id": "ad0b0e9b-3119-44dc-9c90-a0d2d3a5ce2b",
   "metadata": {},
   "source": [
    "<h2 style='font-size:30px'> Random Numbers</h2>"
   ]
  },
  {
   "cell_type": "code",
   "execution_count": 199,
   "id": "6faee160-cfa3-4fe8-91b6-b3e8384b8ed1",
   "metadata": {},
   "outputs": [
    {
     "data": {
      "text/plain": [
       "[<matplotlib.lines.Line2D at 0x7fd192a90970>]"
      ]
     },
     "execution_count": 199,
     "metadata": {},
     "output_type": "execute_result"
    },
    {
     "data": {
      "image/png": "[encoded data removed]",
      "text/plain": [
       "<Figure size 432x360 with 1 Axes>"
      ]
     },
     "metadata": {
      "needs_background": "light"
     },
     "output_type": "display_data"
    }
   ],
   "source": [
    "from scipy.stats import scoreatpercentile\n",
    "sample = np.random.choice(live.totalwgt_lb, size=100, replace=True)\n",
    "sample = np.nan_to_num(sample, np.nanmean(sample))\n",
    "\n",
    "sample_percentiles = [percentileofscore(sample, element, kind='weak') for element in sample]\n",
    "percentiles_percentiles = [percentileofscore(sample_percentiles, element, kind='weak') for element in \n",
    "                          sample_percentiles]\n",
    "\n",
    "plt.figure(figsize=(6,5))\n",
    "plt.step(sorted(sample_percentiles), sorted(percentiles_percentiles))\n"
   ]
  },
  {
   "cell_type": "code",
   "execution_count": 211,
   "id": "18ed92fa-868b-4e9a-9e9e-2367ba271ed1",
   "metadata": {},
   "outputs": [],
   "source": [
    "a = np.random.random(1000)"
   ]
  },
  {
   "cell_type": "code",
   "execution_count": 218,
   "id": "a62a6258-91a4-4e90-9a86-696d03ab785e",
   "metadata": {},
   "outputs": [
    {
     "data": {
      "image/png": "[encoded data removed]",
      "text/plain": [
       "<Figure size 432x288 with 1 Axes>"
      ]
     },
     "metadata": {
      "needs_background": "light"
     },
     "output_type": "display_data"
    }
   ],
   "source": [
    "plt.hist(a, bins=50);"
   ]
  },
  {
   "cell_type": "code",
   "execution_count": 213,
   "id": "b4776f9e-2b23-4919-8d2e-a9229c130b99",
   "metadata": {},
   "outputs": [
    {
     "data": {
      "text/plain": [
       "[<matplotlib.lines.Line2D at 0x7fd191561640>]"
      ]
     },
     "execution_count": 213,
     "metadata": {},
     "output_type": "execute_result"
    },
    {
     "data": {
      "image/png": "[encoded data removed]",
      "text/plain": [
       "<Figure size 432x288 with 1 Axes>"
      ]
     },
     "metadata": {
      "needs_background": "light"
     },
     "output_type": "display_data"
    }
   ],
   "source": [
    "plt.step([np.percentile(a, i) for i in range(1, 101)], range(1,101))"
   ]
  },
  {
   "cell_type": "markdown",
   "id": "cb85d491-f4ba-4542-a827-6f9a533837c9",
   "metadata": {},
   "source": [
    "<p style='color:red'> Comparing Percentiles Ranks"
   ]
  }
 ],
 "metadata": {
  "kernelspec": {
   "display_name": "Python 3",
   "language": "python",
   "name": "python3"
  },
  "language_info": {
   "codemirror_mode": {
    "name": "ipython",
    "version": 3
   },
   "file_extension": ".py",
   "mimetype": "text/x-python",
   "name": "python",
   "nbconvert_exporter": "python",
   "pygments_lexer": "ipython3",
   "version": "3.8.8"
  }
 },
 "nbformat": 4,
 "nbformat_minor": 5
}
