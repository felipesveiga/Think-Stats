{
 "cells": [
  {
   "cell_type": "markdown",
   "id": "5e990b03-6274-4ca5-85da-f469f5dba134",
   "metadata": {},
   "source": [
    "<h1 style='font-size:40px'> Cumulative Distribution Functions</h1>"
   ]
  },
  {
   "cell_type": "markdown",
   "id": "a4dd2116-3f6b-4665-8170-7d1e942c40e1",
   "metadata": {},
   "source": [
    "<h2 style='font-size:30px'> Percentiles</h2>\n",
    "<div> \n",
    "    <ul style='font-size:20px'>\n",
    "        <li> \n",
    "            Percentis indicam a portentagem de instâncias em uma ordenação que se encontram abaixo de um valor.\n",
    "        </li>\n",
    "    </ul>\n",
    "</div>"
   ]
  },
  {
   "cell_type": "code",
   "execution_count": 31,
   "id": "41a978e9-c8fd-4fab-ba28-112cb5a92180",
   "metadata": {},
   "outputs": [
    {
     "data": {
      "text/plain": [
       "(-0.0013392991380315185, -0.0013392991380315185)"
      ]
     },
     "execution_count": 31,
     "metadata": {},
     "output_type": "execute_result"
    }
   ],
   "source": [
    "import numpy as np\n",
    "array = np.random.randint(0, 50, size=20)\n",
    "\n",
    "# O quintgésimo percentil (ou a mediana) do array é -0.0013.\n",
    "x = np.random.randn(10000)\n",
    "np.percentile(x, 50), np.median(x)"
   ]
  },
  {
   "cell_type": "markdown",
   "id": "06c179e5-67e9-4a85-a27d-e4df5f4ba33f",
   "metadata": {},
   "source": [
    "<h2 style='font-size:30px'> CDFs</h2>\n",
    "<div> \n",
    "    <ul style='font-size:20px'>\n",
    "        <li> \n",
    "            CDF's, assim como os percentis, quantificam a grandeza de um valor em uma ordenação em comparação com os demais. No entanto, a sua escala é de 0 a 100, e não 0 a 1.\n",
    "        </li>\n",
    "        <li> \n",
    "            Valores acima do máximo do array recebem CDF=1; os menores do que o mínimo, 0.\n",
    "        </li>\n",
    "    </ul>\n",
    "</div>"
   ]
  },
  {
   "cell_type": "code",
   "execution_count": 41,
   "id": "998ddd1a-dff5-4bfc-95a8-490914fb08dd",
   "metadata": {},
   "outputs": [
    {
     "data": {
      "text/plain": [
       "<AxesSubplot:>"
      ]
     },
     "execution_count": 41,
     "metadata": {},
     "output_type": "execute_result"
    },
    {
     "data": {
      "image/png": "[encoded data removed]",
      "text/plain": [
       "<Figure size 432x288 with 1 Axes>"
      ]
     },
     "metadata": {
      "needs_background": "light"
     },
     "output_type": "display_data"
    }
   ],
   "source": [
    "from scipy.stats import norm\n",
    "import seaborn as sns\n",
    "cdf = norm.cdf(x)\n",
    "sns.lineplot(x=x, y=cdf, drawstyle='steps')"
   ]
  },
  {
   "cell_type": "markdown",
   "id": "58a1c517-c52c-45d2-b838-dfcc8878bbf7",
   "metadata": {},
   "source": [
    "<h2 style='font-size:30px'> Representing CDFs</h2>\n",
    "<div> \n",
    "    <ul style='font-size:20px'>\n",
    "        <li> \n",
    "            O gráfico do CDF nos ajuda a enxergarmos os percentis de uma ordenação.\n",
    "        </li>\n",
    "    </ul>\n",
    "</div>"
   ]
  },
  {
   "cell_type": "code",
   "execution_count": 46,
   "id": "ee6550d1-b58d-4be7-b49a-b3f01456b1bb",
   "metadata": {},
   "outputs": [],
   "source": [
    "from nsfg import ReadFemPreg\n",
    "df = ReadFemPreg()\n",
    "live = df[df.outcome==1]"
   ]
  },
  {
   "cell_type": "code",
   "execution_count": 113,
   "id": "18c279d4-50d1-4841-8875-d6ed776e506a",
   "metadata": {
    "tags": []
   },
   "outputs": [
    {
     "data": {
      "text/plain": [
       "[<matplotlib.lines.Line2D at 0x7f255943d970>]"
      ]
     },
     "execution_count": 113,
     "metadata": {},
     "output_type": "execute_result"
    },
    {
     "data": {
      "image/png": "[encoded data removed]",
      "text/plain": [
       "<Figure size 432x288 with 1 Axes>"
      ]
     },
     "metadata": {
      "needs_background": "light"
     },
     "output_type": "display_data"
    }
   ],
   "source": [
    "# Criando manualmente um gráfico de CDF.\n",
    "# Conseguimos visualizar explicitamente a moda da ordenação (39).\n",
    "# Parece que menos de 10% dos nascimentos ocorreram antes da 36a semana.\n",
    "o = [np.percentile(live.prglngth, i) for i in range(101)]\n",
    "plt.step(o, list(range(101)))"
   ]
  },
  {
   "cell_type": "code",
   "execution_count": 114,
   "id": "33e2c97e-1003-40fb-a2c4-63740742e2ee",
   "metadata": {},
   "outputs": [
    {
     "name": "stderr",
     "output_type": "stream",
     "text": [
      "/home/veiga/.local/lib/python3.8/site-packages/seaborn/_decorators.py:36: FutureWarning: Pass the following variables as keyword args: x, y. From version 0.12, the only valid positional argument will be `data`, and passing other arguments without an explicit keyword will result in an error or misinterpretation.\n",
      "  warnings.warn(\n"
     ]
    },
    {
     "data": {
      "image/png": "[encoded data removed]",
      "text/plain": [
       "<Figure size 432x288 with 1 Axes>"
      ]
     },
     "metadata": {
      "needs_background": "light"
     },
     "output_type": "display_data"
    }
   ],
   "source": [
    "# Por algum motivo, o objeto 'norm.cdf' não nos dá o gráfico que está no livro (por isso recorri ao numpy.percentile).\n",
    "# loc é a média da ordenação; scale é o desvio-padrão.        \n",
    "y = norm.cdf(live.prglngth, loc= live.prglngth.mean(), scale= live.prglngth.std())\n",
    "sns.lineplot(live.prglngth, y, drawstyle='steps')\n",
    "plt.xticks(ticks=np.linspace(0,50, 11));"
   ]
  },
  {
   "cell_type": "markdown",
   "id": "dd414a93-7321-498d-a156-9c5ad7658688",
   "metadata": {},
   "source": [
    "<h2 style='font-size:30px'> Comparing CDFs</h2>\n",
    "<div> \n",
    "    <ul style='font-size:20px'>\n",
    "        <li> \n",
    "        </li>\n",
    "    </ul>\n",
    "</div>"
   ]
  },
  {
   "cell_type": "markdown",
   "id": "cb85d491-f4ba-4542-a827-6f9a533837c9",
   "metadata": {},
   "source": [
    "<p style='color:red'> Comparing CDFs"
   ]
  }
 ],
 "metadata": {
  "kernelspec": {
   "display_name": "Python 3 (ipykernel)",
   "language": "python",
   "name": "python3"
  },
  "language_info": {
   "codemirror_mode": {
    "name": "ipython",
    "version": 3
   },
   "file_extension": ".py",
   "mimetype": "text/x-python",
   "name": "python",
   "nbconvert_exporter": "python",
   "pygments_lexer": "ipython3",
   "version": "3.8.10"
  }
 },
 "nbformat": 4,
 "nbformat_minor": 5
}
