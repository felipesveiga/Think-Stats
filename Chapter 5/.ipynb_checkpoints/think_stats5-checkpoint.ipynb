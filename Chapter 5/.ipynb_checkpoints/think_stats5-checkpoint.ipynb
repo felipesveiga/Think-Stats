{
 "cells": [
  {
   "cell_type": "markdown",
   "id": "6606c84f-1177-4777-9dac-a36401586b9e",
   "metadata": {},
   "source": [
    "<h1 style='font-size:40px'> Modeling Distributions</h1>"
   ]
  },
  {
   "cell_type": "markdown",
   "id": "e3556928-7ee8-4906-9ca3-362a7885af80",
   "metadata": {},
   "source": [
    "<h2 style='font-size:30px'> The Exponential Distribution</h2>\n",
    "<div> \n",
    "    <ul style='font-size:20px'> \n",
    "        <li> \n",
    "            Uma sequência de registros sobre o tempo levado entre dois eventos é dita possuir uma Distribuição Exponencial caso esses fatos ocorram sempre com a mesma probabilidade a qualquer momento.\n",
    "        </li>\n",
    "        <li> \n",
    "            Deixarei aqui a PDF e CDF dessa distribuição. Para explicações mais detalhistas, visite a pasta \"Continuous Probability Functions\".\n",
    "            $$\n",
    "               P(X=x)=\\lambda e^{-\\lambda x} | F(x)=1-e^{-\\lambda x}\n",
    "            $$\n",
    "        </li>\n",
    "    </ul>\n",
    "</div>"
   ]
  },
  {
   "cell_type": "code",
   "execution_count": null,
   "id": "6a069b35-87b8-4cad-9ba9-de743fc50f01",
   "metadata": {},
   "outputs": [],
   "source": []
  },
  {
   "cell_type": "markdown",
   "id": "31451e7b-ac4c-44fa-b57a-8f1341bf7587",
   "metadata": {},
   "source": [
    "<p style='color:red'> Trecho grifado (p.50); fazer a demonstração da CCDF</p>"
   ]
  }
 ],
 "metadata": {
  "kernelspec": {
   "display_name": "Python 3 (ipykernel)",
   "language": "python",
   "name": "python3"
  },
  "language_info": {
   "codemirror_mode": {
    "name": "ipython",
    "version": 3
   },
   "file_extension": ".py",
   "mimetype": "text/x-python",
   "name": "python",
   "nbconvert_exporter": "python",
   "pygments_lexer": "ipython3",
   "version": "3.8.10"
  }
 },
 "nbformat": 4,
 "nbformat_minor": 5
}
