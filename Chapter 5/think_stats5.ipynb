{
 "cells": [
  {
   "cell_type": "markdown",
   "id": "6606c84f-1177-4777-9dac-a36401586b9e",
   "metadata": {},
   "source": [
    "<h1 style='font-size:40px'> Modeling Distributions</h1>"
   ]
  },
  {
   "cell_type": "markdown",
   "id": "e3556928-7ee8-4906-9ca3-362a7885af80",
   "metadata": {},
   "source": [
    "<h2 style='font-size:30px'> The Exponential Distribution</h2>\n",
    "<div> \n",
    "    <ul style='font-size:20px'> \n",
    "        <li> \n",
    "            Uma sequência de registros sobre o tempo levado entre dois eventos é dita possuir uma Distribuição Exponencial caso esses fatos ocorram sempre com a mesma probabilidade a qualquer momento.\n",
    "        </li>\n",
    "        <li> \n",
    "            Deixarei aqui a PDF e CDF dessa distribuição. Para explicações mais detalhistas, visite a pasta \"Continuous Probability Functions\".\n",
    "            $$\n",
    "               P(X=x)=\\lambda e^{-\\lambda x} | F(x)=1-e^{-\\lambda x}\n",
    "            $$\n",
    "        </li>\n",
    "    </ul>\n",
    "</div>"
   ]
  },
  {
   "cell_type": "markdown",
   "id": "bf125bd3-0e50-41c7-82ab-f7988b3d8e89",
   "metadata": {},
   "source": [
    "<h3 style='font-size:30px;font-style:italic'> CCDF de uma Distribuição Exponencial</h3>\n",
    "<div> \n",
    "    <ul style='font-size:20px'> \n",
    "        <li> \n",
    "             A Complimentary Cumulative Distribution Function é equivalente a 1 - CDF de uma Distribuição Exponencial. Usando-a com um eixo y logarítmico, podemos comprovar que uma sequência de números pertence a essa distribuição caso seja formada uma linha reta. Segue abaixo a comprovação:\n",
    "            $$y\\approx e^{-\\lambda x}$$\n",
    "            $$log{y}\\approx -\\lambda x$$\n",
    "        </li>\n",
    "    </ul>\n",
    "</div>"
   ]
  },
  {
   "cell_type": "code",
   "execution_count": 27,
   "id": "6a069b35-87b8-4cad-9ba9-de743fc50f01",
   "metadata": {},
   "outputs": [
    {
     "data": {
      "image/png": "[encoded data removed]",
      "text/plain": [
       "<Figure size 360x360 with 1 Axes>"
      ]
     },
     "metadata": {
      "needs_background": "light"
     },
     "output_type": "display_data"
    }
   ],
   "source": [
    "# Vamos gerar uma CCDF de uma Distribuição Exponencial aleatória de lambda =2.\n",
    "import numpy as np\n",
    "import matplotlib.pyplot as plt\n",
    "from matplotlib.scale import LogScale\n",
    "fig = plt.figure(figsize=(5,5))\n",
    "ccdf = [np.e ** (-2 * x) for x in np.linspace(0,5, 101)]\n",
    "plot = plt.plot(np.linspace(0,5, 101), ccdf)\n",
    "\n",
    "# Conferindo uma escala logarítmica ao eixo-y. Observe que qualquer base daria o mesmo resultado.\n",
    "plt.yscale(LogScale(plot))\n",
    "plt.title('log(y)=-2*x');"
   ]
  },
  {
   "cell_type": "markdown",
   "id": "e0a83f61-0814-459e-ae21-03efa1f15b3d",
   "metadata": {},
   "source": [
    "<h2 style='font-size:30px'> The Normal Distribution</h2>\n",
    "<div> \n",
    "    <ul style='font-size:20px'> \n",
    "    </ul>\n",
    "</div>"
   ]
  },
  {
   "cell_type": "markdown",
   "id": "31451e7b-ac4c-44fa-b57a-8f1341bf7587",
   "metadata": {},
   "source": [
    "<p style='color:red'> The Normal Distribution</p>"
   ]
  }
 ],
 "metadata": {
  "kernelspec": {
   "display_name": "Python 3 (ipykernel)",
   "language": "python",
   "name": "python3"
  },
  "language_info": {
   "codemirror_mode": {
    "name": "ipython",
    "version": 3
   },
   "file_extension": ".py",
   "mimetype": "text/x-python",
   "name": "python",
   "nbconvert_exporter": "python",
   "pygments_lexer": "ipython3",
   "version": "3.8.10"
  }
 },
 "nbformat": 4,
 "nbformat_minor": 5
}
