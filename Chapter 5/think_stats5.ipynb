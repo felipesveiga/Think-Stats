{
 "cells": [
  {
   "cell_type": "markdown",
   "id": "6606c84f-1177-4777-9dac-a36401586b9e",
   "metadata": {},
   "source": [
    "<h1 style='font-size:40px'> Modeling Distributions</h1>"
   ]
  },
  {
   "cell_type": "markdown",
   "id": "31451e7b-ac4c-44fa-b57a-8f1341bf7587",
   "metadata": {},
   "source": [
    "<p style='color:red'> Começar do início do capítulo</p>\n",
    "<p style='color:red'> Ao final do capítulo, ver os vídeos das playlists sobre distribuições."
   ]
  }
 ],
 "metadata": {
  "kernelspec": {
   "display_name": "Python 3",
   "language": "python",
   "name": "python3"
  },
  "language_info": {
   "codemirror_mode": {
    "name": "ipython",
    "version": 3
   },
   "file_extension": ".py",
   "mimetype": "text/x-python",
   "name": "python",
   "nbconvert_exporter": "python",
   "pygments_lexer": "ipython3",
   "version": "3.8.8"
  }
 },
 "nbformat": 4,
 "nbformat_minor": 5
}
