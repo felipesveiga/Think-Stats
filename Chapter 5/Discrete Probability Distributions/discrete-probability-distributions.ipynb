{
 "cells": [
  {
   "cell_type": "markdown",
   "id": "51136e7d-6613-42b5-b7a4-1d5b3c4569a9",
   "metadata": {},
   "source": [
    "<h1 style='font-size:40px'> Discrete Probability Distributions</h1>"
   ]
  },
  {
   "cell_type": "markdown",
   "id": "08eb6b4b-578a-4e8d-99b6-48e0894279de",
   "metadata": {},
   "source": [
    "<h2 style='font-size:30px'> An Introduction to Discrete Random Variables and Discrete Probability Distributions</h2>"
   ]
  },
  {
   "cell_type": "markdown",
   "id": "d8bf1c45-4273-4844-b55f-6da38482b287",
   "metadata": {},
   "source": [
    "<h3 style='font-size:30px;font-style:italic'>Definição de uma Variável Discreta Aleatória </h3>\n",
    "<div> \n",
    "    <ul style='font-size:20px'> \n",
    "        <li> \n",
    "            É uma variável que pode assumir o valor de uma quantidade contável de números de intervalo não-contínuo.\n",
    "        </li>\n",
    "        <li>\n",
    "            Por outro lado, variáveis aleatórias contínuas podem assumir qualquer valor dentro de um intervalo <strong> contínuo</strong>.\n",
    "        </li>\n",
    "    </ul>\n",
    "</div>"
   ]
  },
  {
   "cell_type": "markdown",
   "id": "cf6f2eec-e949-42bf-b8c1-dc02ee4490f3",
   "metadata": {},
   "source": [
    "<h3 style='font-size:30px;font-style:italic'> Exemplos de Variáveis Discretas</h3>\n",
    "<div> \n",
    "    <ul style='font-size:20px'> \n",
    "        <li> \n",
    "            Quantos gols de pênalti Messi marcará em 20 cobranças? O valor poderá ser qualquer inteiro no intevalo [0,20].\n",
    "        </li>\n",
    "        <li>\n",
    "            Quantas vezes teremos que lançar um dado para que obtenhamos o número 6? Qualquer inteiro de 1 a infinito (não pode ser contínua pois o intervalo não é contínuo).\n",
    "        </li>\n",
    "        <li> \n",
    "            Saldo após uma aposta de 2.00 reais na roleta russa. {- 2.00, + 2.00}\n",
    "        </li>\n",
    "    </ul>\n",
    "</div>"
   ]
  },
  {
   "cell_type": "markdown",
   "id": "fd26ad16-7f9b-4a2a-a18e-d211318776c9",
   "metadata": {},
   "source": [
    "<h2 style='font-size:30px'>Distribuição de Probabilidade de uma Variável Discreta </h2>\n",
    "<div> \n",
    "    <ul style='font-size:20px'> \n",
    "        <li> \n",
    "            Considerando que 60% dos recém-nascidos desenvolvem icterícia. Se escolhermos 2 bebês e definirmos X como a quantidade desses que desenvolveram icterícia, faça a distribuição de probabilidade de X.\n",
    "        </li>\n",
    "    </ul>\n",
    "</div>"
   ]
  },
  {
   "cell_type": "code",
   "execution_count": 1,
   "id": "0709c1ba-bb4e-465a-b047-e726c767d2c4",
   "metadata": {},
   "outputs": [
    {
     "data": {
      "text/html": [
       "<div>\n",
       "<style scoped>\n",
       "    .dataframe tbody tr th:only-of-type {\n",
       "        vertical-align: middle;\n",
       "    }\n",
       "\n",
       "    .dataframe tbody tr th {\n",
       "        vertical-align: top;\n",
       "    }\n",
       "\n",
       "    .dataframe thead th {\n",
       "        text-align: right;\n",
       "    }\n",
       "</style>\n",
       "<table border=\"1\" class=\"dataframe\">\n",
       "  <thead>\n",
       "    <tr style=\"text-align: right;\">\n",
       "      <th></th>\n",
       "      <th>JJ</th>\n",
       "      <th>JN</th>\n",
       "      <th>NJ</th>\n",
       "      <th>NN</th>\n",
       "    </tr>\n",
       "  </thead>\n",
       "  <tbody>\n",
       "    <tr>\n",
       "      <th>Jaundice Cases</th>\n",
       "      <td>2</td>\n",
       "      <td>1</td>\n",
       "      <td>1</td>\n",
       "      <td>0</td>\n",
       "    </tr>\n",
       "  </tbody>\n",
       "</table>\n",
       "</div>"
      ],
      "text/plain": [
       "                JJ  JN  NJ  NN\n",
       "Jaundice Cases   2   1   1   0"
      ]
     },
     "execution_count": 1,
     "metadata": {},
     "output_type": "execute_result"
    }
   ],
   "source": [
    "import pandas as pd\n",
    "import numpy as np\n",
    "\n",
    "# Montando um DataFrame com os valores de X em todos os casos possíveis. 'J' indica que o bebê teve icterícia; 'N' que ele é normal.\n",
    "jaundice = pd.DataFrame({'Jaundice Cases':{'JJ':2, 'JN':1, 'NJ':1, 'NN':0}}).T\n",
    "jaundice"
   ]
  },
  {
   "cell_type": "code",
   "execution_count": 2,
   "id": "6bad330c-e9fa-4047-8f93-4c0655f7a8d8",
   "metadata": {},
   "outputs": [
    {
     "data": {
      "text/html": [
       "<div>\n",
       "<style scoped>\n",
       "    .dataframe tbody tr th:only-of-type {\n",
       "        vertical-align: middle;\n",
       "    }\n",
       "\n",
       "    .dataframe tbody tr th {\n",
       "        vertical-align: top;\n",
       "    }\n",
       "\n",
       "    .dataframe thead th {\n",
       "        text-align: right;\n",
       "    }\n",
       "</style>\n",
       "<table border=\"1\" class=\"dataframe\">\n",
       "  <thead>\n",
       "    <tr style=\"text-align: right;\">\n",
       "      <th></th>\n",
       "      <th>JJ</th>\n",
       "      <th>JN</th>\n",
       "      <th>NJ</th>\n",
       "      <th>NN</th>\n",
       "    </tr>\n",
       "  </thead>\n",
       "  <tbody>\n",
       "    <tr>\n",
       "      <th>Jaundice Cases</th>\n",
       "      <td>2.0</td>\n",
       "      <td>1.0</td>\n",
       "      <td>1.0</td>\n",
       "      <td>0.0</td>\n",
       "    </tr>\n",
       "    <tr>\n",
       "      <th>Probabilities (%)</th>\n",
       "      <td>36.0</td>\n",
       "      <td>24.0</td>\n",
       "      <td>24.0</td>\n",
       "      <td>16.0</td>\n",
       "    </tr>\n",
       "  </tbody>\n",
       "</table>\n",
       "</div>"
      ],
      "text/plain": [
       "                     JJ    JN    NJ    NN\n",
       "Jaundice Cases      2.0   1.0   1.0   0.0\n",
       "Probabilities (%)  36.0  24.0  24.0  16.0"
      ]
     },
     "execution_count": 2,
     "metadata": {},
     "output_type": "execute_result"
    }
   ],
   "source": [
    "# Para descobrirmos a probabilidade de cada resultado ocorrer, basta usarmos as regras básicas da probabilidade.\n",
    "proba_jaundice = .6\n",
    "proba_normal = 1 - proba_jaundice\n",
    "\n",
    "jaundice.loc['Probabilities (%)'] = np.array([proba_jaundice**2, proba_jaundice*proba_normal, proba_normal*proba_jaundice, proba_normal**2])*100\n",
    "jaundice#.astype(int)"
   ]
  },
  {
   "cell_type": "markdown",
   "id": "fd0eea77-e4da-45cc-a0eb-4e05164afecb",
   "metadata": {},
   "source": [
    "<h3 style='font-size:30px;font-style:italic'> Convenções para variáveis discretas</h3>\n",
    "<div> \n",
    "    <ul style='font-size:20px'> \n",
    "        <li> \n",
    "            A probabilidade de a variável X assumir o valor x pode ser expressa como P(X=x) ou p(x).\n",
    "        </li>\n",
    "    </ul>\n",
    "</div>"
   ]
  },
  {
   "cell_type": "code",
   "execution_count": 3,
   "id": "514ae487-6ea9-495f-bf5f-6803c8758dc4",
   "metadata": {},
   "outputs": [
    {
     "data": {
      "text/html": [
       "<div>\n",
       "<style scoped>\n",
       "    .dataframe tbody tr th:only-of-type {\n",
       "        vertical-align: middle;\n",
       "    }\n",
       "\n",
       "    .dataframe tbody tr th {\n",
       "        vertical-align: top;\n",
       "    }\n",
       "\n",
       "    .dataframe thead th {\n",
       "        text-align: right;\n",
       "    }\n",
       "</style>\n",
       "<table border=\"1\" class=\"dataframe\">\n",
       "  <thead>\n",
       "    <tr style=\"text-align: right;\">\n",
       "      <th>X</th>\n",
       "      <th>0</th>\n",
       "      <th>1</th>\n",
       "      <th>2</th>\n",
       "    </tr>\n",
       "  </thead>\n",
       "  <tbody>\n",
       "    <tr>\n",
       "      <th>p(x)</th>\n",
       "      <td>0.16</td>\n",
       "      <td>0.48</td>\n",
       "      <td>0.36</td>\n",
       "    </tr>\n",
       "  </tbody>\n",
       "</table>\n",
       "</div>"
      ],
      "text/plain": [
       "X        0     1     2\n",
       "p(x)  0.16  0.48  0.36"
      ]
     },
     "execution_count": 3,
     "metadata": {},
     "output_type": "execute_result"
    }
   ],
   "source": [
    "# Montando a tabela final de probabilidades com a notação correta.\n",
    "jaundices_probabilities = pd.DataFrame({0:{'p(x)':.16}, 1:{'p(x)':.48}, 2:{'p(x)':.36}})\n",
    "jaundices_probabilities.columns.name='X'\n",
    "jaundices_probabilities"
   ]
  },
  {
   "cell_type": "markdown",
   "id": "1a4070a4-b6ba-44a0-abf9-264b446497f3",
   "metadata": {},
   "source": [
    "<div> \n",
    "    <ul style='font-size:20px'> \n",
    "        <li> \n",
    "            Como os valores possíveis de X não estão contidos em um intervalo contínuo, plotamos a sua distribuição de probabilidade em um histograma.\n",
    "        </li>\n",
    "    </ul>\n",
    "</div>"
   ]
  },
  {
   "cell_type": "code",
   "execution_count": 4,
   "id": "9e9d9032-cdb6-4761-94f3-c346cccccd50",
   "metadata": {},
   "outputs": [
    {
     "data": {
      "text/plain": [
       "<AxesSubplot:xlabel='X'>"
      ]
     },
     "execution_count": 4,
     "metadata": {},
     "output_type": "execute_result"
    },
    {
     "data": {
      "image/png": "[encoded data removed]",
      "text/plain": [
       "<Figure size 432x288 with 1 Axes>"
      ]
     },
     "metadata": {
      "needs_background": "light"
     },
     "output_type": "display_data"
    }
   ],
   "source": [
    "import seaborn as sns\n",
    "jaundices_probabilities.loc['p(x)'].plot(kind='bar')"
   ]
  },
  {
   "cell_type": "markdown",
   "id": "9126a1c3-5823-438f-a9f5-457403a51efc",
   "metadata": {},
   "source": [
    "<div> \n",
    "    <ul style='font-size:20px'> \n",
    "        <li> \n",
    "            Por último, é possível representar a distribuição discreta sob análise por uma fórmula, conhecida como Probability Mass Function.\n",
    "        </li>\n",
    "    </ul>\n",
    "</div>"
   ]
  },
  {
   "cell_type": "markdown",
   "id": "dec4072f-b864-43df-8b1c-ae6c8dbb26b4",
   "metadata": {},
   "source": [
    "<center> \n",
    "    <img src='pmf1.png'>\n",
    "</center>"
   ]
  },
  {
   "cell_type": "markdown",
   "id": "29433932-51a2-4ede-b93b-98e6e0358e67",
   "metadata": {},
   "source": [
    "<div>\n",
    "    <hr>\n",
    "    <h2 style='font-size:30px'> The Expected Value and Variance of Discrete Random Variables</h2>\n",
    "</div>"
   ]
  },
  {
   "cell_type": "markdown",
   "id": "267096d7-c7f2-4963-86e4-6535914d13dd",
   "metadata": {},
   "source": [
    "<h3 style='font-size:30px;font-style:italic'>Valor Esperado </h3>\n",
    "<div> \n",
    "    <ul style='font-size:20px'> \n",
    "        <li> \n",
    "            O Valor Esperado de uma Disitribuição Discreta é a sua média teórica ($\\mu$). Esse valor, por sua vez, é calculado de maneira distinta  quando comparado às distribuições contínuas.\n",
    "            $$\n",
    "                E(X)=\\mu=\\sum_{all x}{x \\times p(x)}\n",
    "            $$\n",
    "        </li>\n",
    "    </ul>\n",
    "</div>"
   ]
  },
  {
   "cell_type": "markdown",
   "id": "7204bf30-68fe-4db8-a007-759b31276eb3",
   "metadata": {},
   "source": [
    "<h3 style='font-size:30px;font-style:italic'> Expectativa de uma função </h3>\n",
    "<div> \n",
    "    <ul style='font-size:20px'> \n",
    "        <li> \n",
    "            A Expectativa de uma função g(X) é quantificada da mesma maneira que o valor esperado.\n",
    "            $$\n",
    "                E[g(X)]=\\sum_{all x}{g(x) \\times p(x)}\n",
    "            $$\n",
    "        </li>\n",
    "    </ul>\n",
    "</div>"
   ]
  },
  {
   "cell_type": "markdown",
   "id": "65390f4d-30b3-4d43-8e1c-fbfca12efe77",
   "metadata": {},
   "source": [
    "<h3 style='font-size:30px;font-style:italic'> Variância </h3>\n",
    "<div> \n",
    "    <ul style='font-size:20px'> \n",
    "        <li> \n",
    "            A variância de uma variável discreta aleatória é o Valor Esperado da distância ao quadrado de X com sua média.\n",
    "            $$\n",
    "                \\sigma^{2}=E[(X - \\mu)^{2}]=\\sum_{all x}{(x - \\mu)^{2} \\times p(x)}\n",
    "            $$\n",
    "        </li>\n",
    "        <li> \n",
    "            A relação pode ser escrita também da seguinte maneira:\n",
    "            $$\n",
    "                E[(X - \\mu)^{2}] = E(X^{2}) - \\mu ^{2}\n",
    "            $$\n",
    "        </li>\n",
    "    </ul>\n",
    "</div>"
   ]
  },
  {
   "cell_type": "markdown",
   "id": "461f43b2-4f67-463a-8161-7fc06ddc8769",
   "metadata": {},
   "source": [
    "<h3 style='font-size:30px;font-style:italic'> Exemplo </h3>\n",
    "<div> \n",
    "    <ul style='font-size:20px'> \n",
    "        <li> \n",
    "            Uma moeda enviesada possui 60% de chance  de dar cara, quando lançada ao ar. Sendo X a quantidade de vezes que obtivemos cara em duas tentativas:\n",
    "            <ul style='list-style-type:lower-alpha'> \n",
    "                <li> \n",
    "                    Construa a distribuição de probabilidade de X.\n",
    "                </li>\n",
    "                <li>\n",
    "                    Meça o Valor Esperado de X.\n",
    "                </li>\n",
    "                <li> \n",
    "                    Calcule a Expectativa do quadrado de X.\n",
    "                </li>\n",
    "                <li> \n",
    "                    Mensure a variância de X.\n",
    "                </li>\n",
    "            </ul>\n",
    "        </li>\n",
    "    </ul>\n",
    "</div>"
   ]
  },
  {
   "cell_type": "code",
   "execution_count": 5,
   "id": "4bed8321-42c5-47b6-9637-4c11900aa3a2",
   "metadata": {},
   "outputs": [
    {
     "data": {
      "text/html": [
       "<div>\n",
       "<style scoped>\n",
       "    .dataframe tbody tr th:only-of-type {\n",
       "        vertical-align: middle;\n",
       "    }\n",
       "\n",
       "    .dataframe tbody tr th {\n",
       "        vertical-align: top;\n",
       "    }\n",
       "\n",
       "    .dataframe thead th {\n",
       "        text-align: right;\n",
       "    }\n",
       "</style>\n",
       "<table border=\"1\" class=\"dataframe\">\n",
       "  <thead>\n",
       "    <tr style=\"text-align: right;\">\n",
       "      <th></th>\n",
       "      <th>HH</th>\n",
       "      <th>HT</th>\n",
       "      <th>TH</th>\n",
       "      <th>TT</th>\n",
       "    </tr>\n",
       "  </thead>\n",
       "  <tbody>\n",
       "    <tr>\n",
       "      <th>Head Occurences</th>\n",
       "      <td>2</td>\n",
       "      <td>1</td>\n",
       "      <td>1</td>\n",
       "      <td>0</td>\n",
       "    </tr>\n",
       "  </tbody>\n",
       "</table>\n",
       "</div>"
      ],
      "text/plain": [
       "                 HH  HT  TH  TT\n",
       "Head Occurences   2   1   1   0"
      ]
     },
     "execution_count": 5,
     "metadata": {},
     "output_type": "execute_result"
    }
   ],
   "source": [
    "head_tails = pd.DataFrame({'HH':[2], 'HT':[1], 'TH':[1], 'TT':[0]})\n",
    "head_tails.rename(index={0:'Head Occurences'})"
   ]
  },
  {
   "cell_type": "code",
   "execution_count": 6,
   "id": "25f3bdd1-d547-4ffd-ade1-d20b49f8303a",
   "metadata": {},
   "outputs": [
    {
     "data": {
      "text/html": [
       "<div>\n",
       "<style scoped>\n",
       "    .dataframe tbody tr th:only-of-type {\n",
       "        vertical-align: middle;\n",
       "    }\n",
       "\n",
       "    .dataframe tbody tr th {\n",
       "        vertical-align: top;\n",
       "    }\n",
       "\n",
       "    .dataframe thead th {\n",
       "        text-align: right;\n",
       "    }\n",
       "</style>\n",
       "<table border=\"1\" class=\"dataframe\">\n",
       "  <thead>\n",
       "    <tr style=\"text-align: right;\">\n",
       "      <th>X</th>\n",
       "      <th>0</th>\n",
       "      <th>1</th>\n",
       "      <th>2</th>\n",
       "    </tr>\n",
       "  </thead>\n",
       "  <tbody>\n",
       "    <tr>\n",
       "      <th>p(x)</th>\n",
       "      <td>0.16</td>\n",
       "      <td>0.48</td>\n",
       "      <td>0.36</td>\n",
       "    </tr>\n",
       "  </tbody>\n",
       "</table>\n",
       "</div>"
      ],
      "text/plain": [
       "X        0     1     2\n",
       "p(x)  0.16  0.48  0.36"
      ]
     },
     "metadata": {},
     "output_type": "display_data"
    },
    {
     "data": {
      "text/plain": [
       "<AxesSubplot:xlabel='X'>"
      ]
     },
     "execution_count": 6,
     "metadata": {},
     "output_type": "execute_result"
    },
    {
     "data": {
      "image/png": "[encoded data removed]",
      "text/plain": [
       "<Figure size 432x288 with 1 Axes>"
      ]
     },
     "metadata": {
      "needs_background": "light"
     },
     "output_type": "display_data"
    }
   ],
   "source": [
    "# A.\n",
    "# Lembre-se: a moeda pode cair cara-coroa ou coroa-cara.\n",
    "coin = pd.DataFrame({0:{'p(x)':0.4**2}, 1:{'p(x)':0.6*0.4 + 0.4*0.6}, 2:{'p(x)':0.6**2}})\n",
    "coin.columns.name = 'X'\n",
    "display(coin)\n",
    "coin.iloc[0].plot(kind='bar')"
   ]
  },
  {
   "cell_type": "code",
   "execution_count": 7,
   "id": "0aee1360-ec23-4c5e-8176-b147a4b4b3e2",
   "metadata": {},
   "outputs": [
    {
     "data": {
      "text/plain": [
       "1.2"
      ]
     },
     "execution_count": 7,
     "metadata": {},
     "output_type": "execute_result"
    }
   ],
   "source": [
    "# B.\n",
    "\n",
    "# Para médias ponderadas, use np.average.\n",
    "expected_value = np.average(coin.columns, weights=coin.iloc[0])\n",
    "expected_value"
   ]
  },
  {
   "cell_type": "markdown",
   "id": "9f5cab5b-c3d7-48eb-a7dd-12f9a2f6b74d",
   "metadata": {},
   "source": [
    "<div> \n",
    "    <ul style='font-size:20px'> \n",
    "        <li> \n",
    "            Se simulássemos esse procedimento de lançamento de moeda 1 milhão de vezes, a quantidade média de caras obtida seria de 1.199, muito próximo do Valor Esperado.\n",
    "        </li>\n",
    "    </ul>\n",
    "</div>\n",
    "<center> \n",
    "    <img src='expected_value1.png'>\n",
    "</center>"
   ]
  },
  {
   "cell_type": "code",
   "execution_count": 8,
   "id": "229ee588-c6cf-4bcf-a277-463828144391",
   "metadata": {},
   "outputs": [
    {
     "data": {
      "text/plain": [
       "1.92"
      ]
     },
     "execution_count": 8,
     "metadata": {},
     "output_type": "execute_result"
    }
   ],
   "source": [
    "# C.\n",
    "expectation_x2 = np.average(coin.columns ** 2, weights=coin.iloc[0])\n",
    "expectation_x2"
   ]
  },
  {
   "cell_type": "code",
   "execution_count": 9,
   "id": "282e8874-2d22-4d68-a433-4820f75e3657",
   "metadata": {},
   "outputs": [
    {
     "data": {
      "text/plain": [
       "(0.4800000000000001, 0.48)"
      ]
     },
     "execution_count": 9,
     "metadata": {},
     "output_type": "execute_result"
    }
   ],
   "source": [
    "# D.\n",
    "\n",
    "# Aqui, usaremos ambas as fórmulas dadas para calcular essa estatística.\n",
    "minus_average_squared = lambda X,mu: (X-mu)**2\n",
    "variance1 = np.average(minus_average_squared(coin.columns, expected_value), weights=coin.iloc[0])\n",
    "\n",
    "\n",
    "variance2 = expectation_x2 - expected_value**2\n",
    "variance1,variance2"
   ]
  },
  {
   "cell_type": "markdown",
   "id": "48a7feed-4d37-438c-9f53-14bb7cd130f8",
   "metadata": {},
   "source": [
    "<div>\n",
    "    <hr>\n",
    "<h2 style='font-size:30px'> Introduction to the Bernoulli Distribution</h2>\n",
    "</div>\n",
    "<div> \n",
    "    <ul style='font-size:20px'> \n",
    "        <li> \n",
    "            A Distribuição Bernoulli ocorre em variáveis discretas de valor binário; na maioria dos casos, essas indicam o sucesso ou fracasso de algum evento.\n",
    "        </li>\n",
    "        <li> \n",
    "            As probabilidades possíveis seriam p para o primeiro valor, e (1-p) para o segundo.\n",
    "        </li>\n",
    "        <li> \n",
    "            Sendo X=1 o sucesso e X=0 o fracasso, a PMF da Distribuição Bernoulli será:\n",
    "            $$P(X=x)=p^{x}(1-p)^{1-x}$$\n",
    "        </li>\n",
    "    </ul>\n",
    "</div>"
   ]
  },
  {
   "cell_type": "markdown",
   "id": "e1549f67-ab8c-4623-a178-28051749e6bd",
   "metadata": {},
   "source": [
    "<h3 style='font-size:30px;font-style:italic'> Propriedades da Distribuição Bernoulli</h3>\n",
    "<div> \n",
    "    <ul style='font-size:20px'> \n",
    "        <li> \n",
    "            A média e variância de uma distribuição Bernoulli serão:\n",
    "            <p>\n",
    "                <center>\n",
    "            $\\mu=p$ | $\\sigma ^{2}=p(1-p)$\n",
    "                </center>\n",
    "            </p>\n",
    "        </li>\n",
    "    </ul>\n",
    "</div>"
   ]
  },
  {
   "cell_type": "markdown",
   "id": "186f9a95-3deb-4ad4-a8fd-ee07639299da",
   "metadata": {},
   "source": [
    "<h3 style='font-size:30px;font-style:italic'> Exemplo</h3>\n",
    "<div> \n",
    "    <ul style='font-size:20px'> \n",
    "        <li> \n",
    "            Considerando que 1 em cada 200 americanos são advogados, selecionando um indivíduo aleatório da população:\n",
    "            <ul style='list-style-type:lower-alpha'> \n",
    "                <li> \n",
    "                    Faça a distribuição de probabilidade\n",
    "                </li>\n",
    "            </ul>\n",
    "        </li>\n",
    "    </ul>\n",
    "</div>"
   ]
  },
  {
   "cell_type": "code",
   "execution_count": 10,
   "id": "bd40f45d-8f6e-47ca-9840-b6c909fbca26",
   "metadata": {},
   "outputs": [
    {
     "data": {
      "text/html": [
       "<div>\n",
       "<style scoped>\n",
       "    .dataframe tbody tr th:only-of-type {\n",
       "        vertical-align: middle;\n",
       "    }\n",
       "\n",
       "    .dataframe tbody tr th {\n",
       "        vertical-align: top;\n",
       "    }\n",
       "\n",
       "    .dataframe thead th {\n",
       "        text-align: right;\n",
       "    }\n",
       "</style>\n",
       "<table border=\"1\" class=\"dataframe\">\n",
       "  <thead>\n",
       "    <tr style=\"text-align: right;\">\n",
       "      <th>X</th>\n",
       "      <th>0</th>\n",
       "      <th>1</th>\n",
       "    </tr>\n",
       "  </thead>\n",
       "  <tbody>\n",
       "    <tr>\n",
       "      <th>p(x)</th>\n",
       "      <td>0.005</td>\n",
       "      <td>0.995</td>\n",
       "    </tr>\n",
       "  </tbody>\n",
       "</table>\n",
       "</div>"
      ],
      "text/plain": [
       "X         0      1\n",
       "p(x)  0.005  0.995"
      ]
     },
     "metadata": {},
     "output_type": "display_data"
    },
    {
     "data": {
      "text/plain": [
       "<AxesSubplot:xlabel='X'>"
      ]
     },
     "execution_count": 10,
     "metadata": {},
     "output_type": "execute_result"
    },
    {
     "data": {
      "image/png": "[encoded data removed]",
      "text/plain": [
       "<Figure size 432x288 with 1 Axes>"
      ]
     },
     "metadata": {
      "needs_background": "light"
     },
     "output_type": "display_data"
    }
   ],
   "source": [
    "# A.\n",
    "\n",
    "# Medindo as probabilidades.\n",
    "p_lawyer = 1/200\n",
    "p_n_lawyer = 1-p_lawyer\n",
    "\n",
    "# Criando a distribuição de probabilidade por meio de uma tabela e um gráfico.\n",
    "prob_dist = pd.DataFrame({0:{'p(x)':p_lawyer}, 1:{'p(x)':p_n_lawyer}})\n",
    "prob_dist.columns.name = 'X'\n",
    "\n",
    "display(prob_dist)\n",
    "prob_dist.iloc[0].plot(kind='bar')"
   ]
  },
  {
   "cell_type": "markdown",
   "id": "7a6cefec-14c7-4a15-bf54-1d79c2bbb6e4",
   "metadata": {},
   "source": [
    "<div>\n",
    "    <hr>\n",
    "<h2 style='font-size:30px'> An Introduction to the Binomial Distribution</h2>\n",
    "</div>\n",
    "<div> \n",
    "    <ul style='font-size:20px'> \n",
    "        <li> \n",
    "            A quantidade de sucessos tida em n extrações independentes de uma variável Bernoulli possui uma Distribuição Binomial. Observe que uma extração independente requer que a obtenção de um valor não providencie pistas sobre o valor do próximo número.\n",
    "        </li>\n",
    "        <li> \n",
    "            Sendo n o número de extrações realizadas, a PMF de uma Distribuição Binomial é de:\n",
    "            $$\n",
    "                P(X=x)={n \\choose x}p^{x}(1-p)^{n-x}\n",
    "            $$\n",
    "        </li>\n",
    "        <li> \n",
    "            A notação de uma variável X com distrbuição Binomial é:\n",
    "            $$\n",
    "                X \\sim{} B(n, p)\n",
    "            $$\n",
    "        </li>\n",
    "    </ul>\n",
    "</div>"
   ]
  },
  {
   "cell_type": "markdown",
   "id": "61710e7f-36e6-41f6-b70d-83cc00d9d89a",
   "metadata": {},
   "source": [
    "<h3 style='font-size:30px;font-style:italic'> Propriedades da Distribuição Binomial</h3>\n",
    "<div> \n",
    "    <ul style='font-size:20px'> \n",
    "        <li> \n",
    "            A média e variância de uma distribuição Binomial serão:\n",
    "            <p>\n",
    "                <center>\n",
    "            $\\mu=E(X)=np$ | $\\sigma ^{2}=np(1-p)$\n",
    "                </center>\n",
    "            </p>\n",
    "        </li>\n",
    "    </ul>\n",
    "</div>"
   ]
  },
  {
   "cell_type": "markdown",
   "id": "7f87507a-e1d3-44da-8544-7b7f890f7b1e",
   "metadata": {},
   "source": [
    "<h3 style='font-size:30px;font-style:italic'> Exemplo 1</h3>\n",
    "<div> \n",
    "    <ul style='font-size:20px'> \n",
    "        <li> \n",
    "            Temos um dado que é lançado 3 vezes ao ar. \n",
    "            <ul style='list-style-type:lower-alpha'> \n",
    "                <li> \n",
    "                    Qual a probabilidade de que obtenhamos 5 exatamente duas vezes?\n",
    "                </li>\n",
    "            </ul>\n",
    "        </li>\n",
    "    </ul>\n",
    "</div>"
   ]
  },
  {
   "cell_type": "code",
   "execution_count": 11,
   "id": "93462fee-82d4-40f9-9f60-55c7b6a0b125",
   "metadata": {},
   "outputs": [
    {
     "data": {
      "text/latex": [
       "$\\displaystyle 0.0694444444444444$"
      ],
      "text/plain": [
       "0.0694444444444444"
      ]
     },
     "execution_count": 11,
     "metadata": {},
     "output_type": "execute_result"
    }
   ],
   "source": [
    "from sympy import binomial\n",
    "# A.\n",
    "# Podemos deduzir que x=2 e n=3.\n",
    "p_5 = 1/6\n",
    "\n",
    "# Segue a probabilidade, computando-a com base na PMF de uma Distribuição Binomial.\n",
    "binomial(3,2) * p_5 **2 * (1 - p_5) ** (3-2)"
   ]
  },
  {
   "cell_type": "code",
   "execution_count": 12,
   "id": "728abe1e-fa17-4dc8-8a81-3dce1e437282",
   "metadata": {},
   "outputs": [
    {
     "data": {
      "text/plain": [
       "0.06944444444444445"
      ]
     },
     "execution_count": 12,
     "metadata": {},
     "output_type": "execute_result"
    }
   ],
   "source": [
    "# Fazer esse cálculo providencia o mesmo resultado que apenas somar as probabilidades de todos os cenários possíveis:\n",
    "(p_5**2 * (1 - p_5))*3"
   ]
  },
  {
   "cell_type": "markdown",
   "id": "e52d7bf7-f8ed-4d60-a425-a1bcf3c50dcf",
   "metadata": {},
   "source": [
    "<h3 style='font-size:30px;font-style:italic'> Exemplo 2</h3>\n",
    "<div> \n",
    "    <ul style='font-size:20px'> \n",
    "        <li> \n",
    "            Canadenses homens de 90 anos possuem, em geral, 82% de chance de viverem mais um ano. Se tivermos uma população de 20 senhores com essa idade:\n",
    "            <ul style='list-style-type:lower-alpha'> \n",
    "                <li> \n",
    "                    Qual a probabilidade de que 18 deles vivam por mais um ano?\n",
    "                </li>\n",
    "                <li> \n",
    "                    Qual a probabilidade de que <strong> ao menos</strong> 18 senhores vivam por mais um ano?\n",
    "                </li>\n",
    "            </ul>\n",
    "        </li>\n",
    "    </ul>\n",
    "</div>"
   ]
  },
  {
   "cell_type": "code",
   "execution_count": 13,
   "id": "ecf1ba44-afe5-400d-80e7-56c76505a840",
   "metadata": {},
   "outputs": [
    {
     "data": {
      "text/latex": [
       "$\\displaystyle 0.172960907011326$"
      ],
      "text/plain": [
       "0.172960907011326"
      ]
     },
     "execution_count": 13,
     "metadata": {},
     "output_type": "execute_result"
    }
   ],
   "source": [
    "from sympy import binomial\n",
    "\n",
    "p_91 = .82\n",
    "sucesses = 18\n",
    "failures = 20 - sucesses\n",
    "\n",
    "# Obtendo a probabilidade.\n",
    "binomial(20,sucesses) * (p_91 ** sucesses) * (1-p_91) ** failures"
   ]
  },
  {
   "cell_type": "code",
   "execution_count": 14,
   "id": "8b5d44ba-407a-417f-a54c-ff1366a769a5",
   "metadata": {},
   "outputs": [
    {
     "data": {
      "text/plain": [
       "Text(0, 0.5, 'Probabilty')"
      ]
     },
     "execution_count": 14,
     "metadata": {},
     "output_type": "execute_result"
    },
    {
     "data": {
      "image/png": "[encoded data removed]",
      "text/plain": [
       "<Figure size 432x288 with 1 Axes>"
      ]
     },
     "metadata": {
      "needs_background": "light"
     },
     "output_type": "display_data"
    }
   ],
   "source": [
    "# Plotando um gráfico com as probabilidades para cada valor de n possível.\n",
    "import matplotlib.pyplot as plt\n",
    "probas = [binomial(20,i) * (p_91 ** i) * (1-p_91) ** (20 - i) for i in range(21)]\n",
    "plt.bar(range(21), probas, width=.99)\n",
    "plt.xlabel('Number of Surviving Elders')\n",
    "plt.ylabel('Probabilty')"
   ]
  },
  {
   "cell_type": "code",
   "execution_count": 15,
   "id": "af8f1ca5-b187-4400-bfdf-f2c6566e7e55",
   "metadata": {},
   "outputs": [
    {
     "name": "stdout",
     "output_type": "stream",
     "text": [
      "Média: 16.4\n",
      "Variância: 2.9520000000000004\n",
      "Desvo-Padrão: 1.7181385275931624\n"
     ]
    }
   ],
   "source": [
    "# Medindo a média, variância e desvio-padrão da distribuição.\n",
    "avg = 20 * p_91\n",
    "var = 20 * p_91 * (1 - p_91)\n",
    "std = np.sqrt(var)\n",
    "\n",
    "print(f'Média: {avg}')\n",
    "print(f'Variância: {var}')\n",
    "print(f'Desvo-Padrão: {std}')"
   ]
  },
  {
   "cell_type": "code",
   "execution_count": 16,
   "id": "062107eb-011c-4d4d-a031-d5532d4301d5",
   "metadata": {},
   "outputs": [
    {
     "data": {
      "text/plain": [
       "Text(0, 0.5, 'Probabilty')"
      ]
     },
     "execution_count": 16,
     "metadata": {},
     "output_type": "execute_result"
    },
    {
     "data": {
      "image/png": "[encoded data removed]",
      "text/plain": [
       "<Figure size 432x288 with 1 Axes>"
      ]
     },
     "metadata": {
      "needs_background": "light"
     },
     "output_type": "display_data"
    }
   ],
   "source": [
    "# B.\n",
    "\n",
    "# Nesse cenário, não poderíamos responder a questão com uma única conta. Teremos que somar as probabilidades para 18, 19 e 20 idosos\n",
    "# sobreviverem por mais um ano (as últimas três barras do histograma).\n",
    "color = ['blue' for i in range(18)]\n",
    "color.extend(['red' for i in range(3)])\n",
    "plt.bar(range(21), probas, width=.99, color= color)\n",
    "plt.xlabel('Number of Surviving Elders')\n",
    "plt.ylabel('Probabilty')"
   ]
  },
  {
   "cell_type": "markdown",
   "id": "2524390c-bfde-482e-adc9-4e1baabadd9c",
   "metadata": {},
   "source": [
    "<div> \n",
    "    <ul style='font-size:20px'> \n",
    "        <li> \n",
    "            $P(X \\geq 18) = P(X=18) + P(X=19) + P(X=20)$ \n",
    "        </li>\n",
    "    </ul>\n",
    "</div>"
   ]
  },
  {
   "cell_type": "code",
   "execution_count": 20,
   "id": "2d6ead4e-e08e-46c3-aee6-59bfa30faa50",
   "metadata": {},
   "outputs": [
    {
     "data": {
      "text/latex": [
       "$\\displaystyle 0.274793186311497$"
      ],
      "text/plain": [
       "0.274793186311497"
      ]
     },
     "execution_count": 20,
     "metadata": {},
     "output_type": "execute_result"
    }
   ],
   "source": [
    "# Hora de mensurar o valor desejado.\n",
    "b_answer = sum([binomial(20, i) * (p_91 ** i) * (1 - p_91) ** (20 - i) for i in range(18,21)])\n",
    "b_answer"
   ]
  },
  {
   "cell_type": "markdown",
   "id": "831d5704-5a9a-4365-8d06-471bce6a563b",
   "metadata": {},
   "source": [
    "<div>\n",
    "    <hr>\n",
    "    <h2 style='font-size:30px'> An Introduction to the Hypergeometric Distribution</h2>\n",
    "</div>"
   ]
  },
  {
   "cell_type": "markdown",
   "id": "3850731c-6ebc-4c76-bd06-adece2bd93a3",
   "metadata": {},
   "source": [
    "<div> \n",
    "    <ul style='font-size:20px'> \n",
    "        <li> \n",
    "            A Distribuição Hipergeométrica lida com probabilidades de sucesso ou fracasso em situações de amostragens dependentes; ou seja, a seleção de um certo indivíduo providencia pistas a respeito das chances das características da próxima amostragem. Para ilustrarmos isso melhor, usaremos um exemplo.\n",
    "        </li>\n",
    "    </ul>\n",
    "</div>"
   ]
  },
  {
   "cell_type": "markdown",
   "id": "d4c25e95-1963-4650-a693-75cd4d6ba3c8",
   "metadata": {},
   "source": [
    "<h3 style='font-size:30px;font-style:italic'> Exemplo 1</h3>\n",
    "<div> \n",
    "    <ul style='font-size:20px'> \n",
    "        <li> \n",
    "            Certa urna contém 6 bolas vermelhas e 14 amarelas. Sortearemos 5 bolas <strong> sem reposição</strong>:\n",
    "            <ul style='list-style-type:lower-alpha'> \n",
    "                <li> \n",
    "                    Qual a probabilidade de obtermos 4 bolas vermelhas?\n",
    "                </li>\n",
    "            </ul>\n",
    "        </li>\n",
    "    </ul>\n",
    "</div>"
   ]
  },
  {
   "cell_type": "markdown",
   "id": "9b7e2176-e01f-4a8c-a6b3-cd598d1e71e0",
   "metadata": {},
   "source": [
    "<h4 style='font-size:30px;font-style:italic;text-decoration:underline'> Explicação</h4>\n",
    "<div> \n",
    "    <ul style='font-size:20px'> \n",
    "        <li> \n",
    "             Se lêssemos o enunciado com pressa, seríamos tentados a utilizar a PMF da Distribuição Binomial. No entanto, lembre-se de que essa exige que as amostragens ocorram de maneira <strong> independente</strong>.\n",
    "        </li>\n",
    "        <li> \n",
    "            A não reposição das esferas no exercício faz com que a amostragem seja dependente; ao retirarmos uma bola de uma certa cor, a probabilidade de obtermos uma outra igual diminui!\n",
    "        </li>\n",
    "    </ul>\n",
    "</div>"
   ]
  },
  {
   "cell_type": "markdown",
   "id": "d2303921-97e6-43a7-a5c4-35305d9a1139",
   "metadata": {},
   "source": [
    "<h4 style='font-size:30px;font-style:italic;text-decoration:underline'> PMF da Distribuição Hipergeométrica</h4>\n",
    "<div> \n",
    "    <ul style='font-size:20px'> \n",
    "        <li> \n",
    "             É considerando esse decréscimo gradual das probabilidades que foi montada a PMF da Distribuição Hipergeométrica. Se, em uma população de N indivíduos, há uma quantidade a de pessoas da característica desejada e quisermos selecionar n amostras com um total x de sucessos, a fórmula será de:\n",
    "            $$\n",
    "                P(X=x)=\\frac{{a \\choose x} {N-a \\choose n-x}}{N \\choose n}\n",
    "            $$\n",
    "        </li>\n",
    "    </ul>\n",
    "</div>\n",
    "<h3 style='font-size:30px;font-style:italic'> Propriedades da Distribuição Hipergeométrica</h3>\n",
    "<div> \n",
    "    <ul style='font-size:20px'> \n",
    "        <li> \n",
    "            A média e variância de uma distribuição Hipergeométrica serão:\n",
    "            <p>\n",
    "                <center>\n",
    "            $\\mu=E(X)=n \\frac{a}{N}$ | $\\sigma^{2}=n\\frac{a}{N}(1-\\frac{a}{N})(\\frac{N-n}{N-1})$\n",
    "                </center>\n",
    "            </p>\n",
    "        </li>\n",
    "    </ul>\n",
    "</div>"
   ]
  },
  {
   "cell_type": "code",
   "execution_count": 4,
   "id": "b1102231-b666-421b-8564-83a3c3050a5c",
   "metadata": {},
   "outputs": [
    {
     "data": {
      "text/plain": [
       "0.013544891640866873"
      ]
     },
     "execution_count": 4,
     "metadata": {},
     "output_type": "execute_result"
    }
   ],
   "source": [
    "# Considerando essa explicação, vamos responder a questão proposta.\n",
    "\n",
    "# A.\n",
    "from sympy import binomial\n",
    "float((binomial(6,4) * binomial(14,1)) / binomial(20,5))"
   ]
  },
  {
   "cell_type": "markdown",
   "id": "f3068ceb-f06c-41ce-98df-138aeab263c7",
   "metadata": {},
   "source": [
    "<h3 style='font-size:30px;font-style:italic'> Exemplo 2</h3>\n",
    "<div> \n",
    "    <ul style='font-size:20px'> \n",
    "        <li> \n",
    "            Um colégio possui 1100 mulheres e 900 homens. Se formos fazer uma amostra de 10 estudantes:\n",
    "            <ul style='list-style-type:lower-alpha'> \n",
    "                <li> \n",
    "                    Qual a probabilidade de obtermos exatamente 7 mulheres?\n",
    "                </li>\n",
    "            </ul>\n",
    "        </li>\n",
    "    </ul>\n",
    "</div>"
   ]
  },
  {
   "cell_type": "code",
   "execution_count": 13,
   "id": "14943209-35bf-4c5b-8603-78e48574f0e7",
   "metadata": {},
   "outputs": [
    {
     "data": {
      "text/plain": [
       "0.16649005706867664"
      ]
     },
     "execution_count": 13,
     "metadata": {},
     "output_type": "execute_result"
    }
   ],
   "source": [
    "# A.\n",
    "M, m = 1100, 7\n",
    "H, h = 900, 3\n",
    "\n",
    "float(binomial(M, m) * binomial(H, h) / binomial(M + H, m+h))"
   ]
  },
  {
   "cell_type": "code",
   "execution_count": 14,
   "id": "9c6936d0-dba3-4b49-af9b-ed59043662dd",
   "metadata": {},
   "outputs": [
    {
     "data": {
      "text/latex": [
       "$\\displaystyle 0.166478292878906$"
      ],
      "text/plain": [
       "0.166478292878906"
      ]
     },
     "execution_count": 14,
     "metadata": {},
     "output_type": "execute_result"
    }
   ],
   "source": [
    "# Mas vamos parar por um minuto e perguntar: e se tivéssemos usado a fórmula da Distribuição Binomial neste caso?\n",
    "\n",
    "# Veja! O resultado é muito aproximado com o último!\n",
    "binomial(10, 7) * (900/2000) ** 3 * (1100/2000) ** 7 "
   ]
  },
  {
   "cell_type": "markdown",
   "id": "8ba4c33a-c23c-4b90-a9f9-132c95d980c0",
   "metadata": {},
   "source": [
    "<h3 style='font-size:30px;font-style:italic'> Uso da PMF Binomial para Distribuições Hipergeométricas</h3>\n",
    "<div> \n",
    "    <ul style='font-size:20px'> \n",
    "        <li> \n",
    "            O motivo de os resultados serem muito aproximados é o fato de estarmos realizando a pesquisa com uma parcela ínfima da população. Quando escolhemos uma mulher, a probabilidade de selecionarmos uma outra é de $\\frac{1099}{1999}$, o que é praticamente a mesma coisa que $\\frac{1100}{2000}$. Portanto, as probabilidades se modificam muito pouco durante a amostragem, por isso, é comum a fórmula da Distribuição Binomial ser usada por questões de simplificação.\n",
    "        </li>\n",
    "        <li> \n",
    "            Se estivermos fazendo uma amostragem com menos de 5% da população, podemos usar a PMF da Distribuição Binomial para medirmos a probabilidade em questão.\n",
    "        </li>\n",
    "    </ul>\n",
    "</div>"
   ]
  },
  {
   "cell_type": "markdown",
   "id": "3f3007d6-3cda-420d-bfd2-7cd471a76d72",
   "metadata": {},
   "source": [
    "<h3 style='font-size:30px;font-style:italic'> Aplicações da Distribuição Hipergeométrica para multi-classes</h3>\n",
    "<div> \n",
    "    <ul style='font-size:20px'> \n",
    "        <li> \n",
    "            Podemos usar a PMF Hipergeométrica em contextos que envolvem múltiplas categorias.\n",
    "        </li>\n",
    "    </ul>\n",
    "</div>"
   ]
  },
  {
   "cell_type": "markdown",
   "id": "c17a6453-67e3-4822-98b0-ae04679fe122",
   "metadata": {},
   "source": [
    "<h3 style='font-size:30px;font-style:italic'> Exemplo 3</h3>\n",
    "<div> \n",
    "    <ul style='font-size:20px'> \n",
    "        <li> \n",
    "            Se uma loja possui 24 Republicanos, 12 Democratas e 8 Independentes:\n",
    "            <ul style='list-style-type:lower-alpha'> \n",
    "                <li> \n",
    "                    Qual a probabilidade de fazermos uma amostra com 3 Democratas, 2 Republicanos e 1 Independente?\n",
    "                </li>\n",
    "            </ul>\n",
    "        </li>\n",
    "    </ul>\n",
    "</div>"
   ]
  },
  {
   "cell_type": "code",
   "execution_count": 16,
   "id": "4fa9a700-be04-4ad1-9061-0d08600148b7",
   "metadata": {},
   "outputs": [
    {
     "data": {
      "text/plain": [
       "0.06881377272755605"
      ]
     },
     "execution_count": 16,
     "metadata": {},
     "output_type": "execute_result"
    }
   ],
   "source": [
    "# Neste contexto, somos capazes de usar a PMF da Distribuição Hipergeométrica com três binômios no numerador.\n",
    "float(binomial(12, 3)* binomial(24, 2) * binomial(8, 1) / binomial(44, 6))"
   ]
  },
  {
   "cell_type": "markdown",
   "id": "a62828da-f4a6-4225-9901-94002e12d494",
   "metadata": {},
   "source": [
    "<div>\n",
    "    <hr>\n",
    "    <h2 style='font-size:30px'> An Introduction to the Geometric Distribution</h2>\n",
    "</div>"
   ]
  },
  {
   "cell_type": "markdown",
   "id": "8bd04a89-8c1f-4d9f-85b3-234c2433c28a",
   "metadata": {},
   "source": [
    "<div> \n",
    "    <ul style='font-size:20px'> \n",
    "        <li> \n",
    "            A Distribuição Geométrica corresponde à distribuição das quantidades necessárias de amostragens <strong> independentes</strong> para que obtenhamos o sucesso almejado.\n",
    "        </li>\n",
    "        <li> \n",
    "            Considerando que precisamos de x tentativas para que consigamos o resultado querido, a PMF da Distribuição Geométrica é:\n",
    "            $$\n",
    "                P(X=x)=(1-p)^{x-1}p\n",
    "            $$\n",
    "        </li>\n",
    "    </ul>\n",
    "</div>"
   ]
  },
  {
   "cell_type": "markdown",
   "id": "89bb6f16-a16a-46a8-8b1c-f21bd9cb1955",
   "metadata": {},
   "source": [
    "<h3 style='font-size:30px;font-style:italic'> Propriedades da Distribuição Geométrica</h3>\n",
    "<div> \n",
    "    <ul style='font-size:20px'> \n",
    "        <li> \n",
    "            A média e variância de uma distribuição Hipergeométrica serão:\n",
    "            <p>\n",
    "                <center>\n",
    "            $\\mu=E(X)=\\frac{1}{p} $| $\\sigma^{2}=\\frac{1-p}{p^{2}}$\n",
    "                </center>\n",
    "            </p>\n",
    "        </li>\n",
    "    </ul>\n",
    "</div>"
   ]
  },
  {
   "cell_type": "markdown",
   "id": "57e983dc-74f0-4532-91de-c21237f8b7ba",
   "metadata": {},
   "source": [
    "<h3 style='font-size:30px;font-style:italic'> Exemplo 1</h3>\n",
    "<div> \n",
    "    <ul style='font-size:20px'> \n",
    "        <li> \n",
    "            Se no Brasil, 30% dos homens receberam treinamento para ressucitação cardiopulmonar:\n",
    "            <ul style='list-style-type:lower-alpha'> \n",
    "                <li> \n",
    "                    Qual a probabilidade de, em uma amostragem, obtermos um homem com esse treinamento na nossa sexta tentativa?\n",
    "                </li>\n",
    "                <li> \n",
    "                    Qual é a probabilidade de termos um homem com tal treinamento antes da quarta tentativa?\n",
    "                </li>\n",
    "            </ul>\n",
    "        </li>\n",
    "    </ul>\n",
    "</div>"
   ]
  },
  {
   "cell_type": "code",
   "execution_count": 28,
   "id": "01106cad-4d7b-434f-80e7-38b5af85c14b",
   "metadata": {},
   "outputs": [
    {
     "name": "stdout",
     "output_type": "stream",
     "text": [
      "0.05042099999999998\n"
     ]
    }
   ],
   "source": [
    "# A.\n",
    "print((1-.3) ** 5 * .3)"
   ]
  },
  {
   "cell_type": "code",
   "execution_count": 30,
   "id": "37943d6a-13d4-4bef-a5c0-a55db6b5dd86",
   "metadata": {},
   "outputs": [
    {
     "data": {
      "text/plain": [
       "(3.3333333333333335, 7.777777777777778)"
      ]
     },
     "execution_count": 30,
     "metadata": {},
     "output_type": "execute_result"
    }
   ],
   "source": [
    "# Qual é a média e variância?\n",
    "1/.3, (1-.3)/.3**2"
   ]
  },
  {
   "cell_type": "code",
   "execution_count": 27,
   "id": "bb50d01d-a157-444c-98f5-7c3400a3d06f",
   "metadata": {},
   "outputs": [
    {
     "data": {
      "text/plain": [
       "Text(0, 0.5, 'Probabilidade')"
      ]
     },
     "execution_count": 27,
     "metadata": {},
     "output_type": "execute_result"
    },
    {
     "data": {
      "image/png": "[encoded data removed]",
      "text/plain": [
       "<Figure size 720x288 with 1 Axes>"
      ]
     },
     "metadata": {
      "needs_background": "light"
     },
     "output_type": "display_data"
    }
   ],
   "source": [
    "# Que tal plotarmos o histograma de nossa distribuição?\n",
    "\n",
    "# As distribuições geométricas sempre terão esse formato de véu de noiva. Quanto maior a quantidade de tentativas demandadas, menor\n",
    "# a probabilidade.\n",
    "plt.figure(figsize=(10,4))\n",
    "plt.bar(range(1,18), [(1-.3) ** i * .3 for i in range(17)], width=1)\n",
    "plt.xticks(ticks=np.arange(1,18));\n",
    "plt.xlabel('Quantidade de Tentativas')\n",
    "plt.ylabel('Probabilidade')"
   ]
  },
  {
   "cell_type": "markdown",
   "id": "9c878fd3-486b-4b3d-b448-805e5ea7d890",
   "metadata": {},
   "source": [
    "<p style='font-size:20px'> $P(X \\leq 3) = P(X=1) + P(X=2) +P(X=3)$</p>"
   ]
  },
  {
   "cell_type": "code",
   "execution_count": 33,
   "id": "07f0a16a-356d-4390-afaf-22f9a648ea9f",
   "metadata": {},
   "outputs": [
    {
     "data": {
      "text/plain": [
       "0.657"
      ]
     },
     "execution_count": 33,
     "metadata": {},
     "output_type": "execute_result"
    }
   ],
   "source": [
    "# B.\n",
    "\n",
    "# Essa estatística pode ser obtida apenas somando P(X=1), P(X=2) e P(X=3).\n",
    "sum([(1 - .3) ** i * .3 for i in range(3)])"
   ]
  },
  {
   "cell_type": "code",
   "execution_count": 18,
   "id": "5c73fa47-4a33-4937-89b4-0d3875a9ef05",
   "metadata": {},
   "outputs": [
    {
     "name": "stdout",
     "output_type": "stream",
     "text": [
      "mv: cannot stat '/Users/felipeveiga/Desktop/Screen Shot 2022-08-19 at 10.55.14.png': No such file or directory\n"
     ]
    }
   ],
   "source": [
    "! mv /Users/felipeveiga/Desktop/Screen\\ Shot\\ 2022-08-19\\ at\\ 10.55.14.png ./expected_value1.png"
   ]
  },
  {
   "cell_type": "markdown",
   "id": "b2b439c3-ea99-431b-b586-41afaf2148c9",
   "metadata": {},
   "source": [
    "<p style= color:red > An Introduction to the Geometric Distribution (6:55)</p>"
   ]
  }
 ],
 "metadata": {
  "kernelspec": {
   "display_name": "Python 3 (ipykernel)",
   "language": "python",
   "name": "python3"
  },
  "language_info": {
   "codemirror_mode": {
    "name": "ipython",
    "version": 3
   },
   "file_extension": ".py",
   "mimetype": "text/x-python",
   "name": "python",
   "nbconvert_exporter": "python",
   "pygments_lexer": "ipython3",
   "version": "3.8.10"
  }
 },
 "nbformat": 4,
 "nbformat_minor": 5
}
