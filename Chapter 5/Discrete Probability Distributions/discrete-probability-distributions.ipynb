{
 "cells": [
  {
   "cell_type": "markdown",
   "id": "51136e7d-6613-42b5-b7a4-1d5b3c4569a9",
   "metadata": {},
   "source": [
    "<h1 style='font-size:40px'> Discrete Probability Distributions</h1>"
   ]
  }
 ],
 "metadata": {
  "kernelspec": {
   "display_name": "Python 3",
   "language": "python",
   "name": "python3"
  },
  "language_info": {
   "codemirror_mode": {
    "name": "ipython",
    "version": 3
   },
   "file_extension": ".py",
   "mimetype": "text/x-python",
   "name": "python",
   "nbconvert_exporter": "python",
   "pygments_lexer": "ipython3",
   "version": "3.8.8"
  }
 },
 "nbformat": 4,
 "nbformat_minor": 5
}
