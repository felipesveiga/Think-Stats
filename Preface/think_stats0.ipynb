{
 "cells": [
  {
   "cell_type": "markdown",
   "id": "ed845b8e-229b-4024-a501-5d70edc014b0",
   "metadata": {},
   "source": [
    "<h1 style='font-size:40px'> Preface</h1>"
   ]
  },
  {
   "cell_type": "markdown",
   "id": "f1f50664-97b9-4c2f-bdbc-759601382656",
   "metadata": {},
   "source": [
    "<div> \n",
    "    <ul style='font-size:20px'> \n",
    "        <li> \n",
    "            O autor explica que a ordem dos conteúdos apresentados no livro está de acordo com a sequência dos tipos de análise que ele costuma fazer em qualquer dataset. Essas seriam:\n",
    "            <ul style='list-style-type:lower-alpha'> \n",
    "                <li> \n",
    "                    Importação e limpeza dos dados.\n",
    "                </li>\n",
    "                <li> \n",
    "                    Exploração de variáveis únicas (médias, percentis, distribuição, summary statistics...).\n",
    "                </li>\n",
    "                <li> \n",
    "                    Identificar relações entre variáveis (scatter plots, correlações, tabelas).\n",
    "                </li>\n",
    "                <li> \n",
    "                    Se existirem relações entre múltiplas variáveis, fazer uma regressão múltipla para adicionar variáveis de controle e investigar relações complexas.\n",
    "                </li>\n",
    "                <li> \n",
    "                    Estimativas e teste de hipóteses.\n",
    "                </li>\n",
    "                <li> \n",
    "                    Data-viz.\n",
    "                </li>\n",
    "            </ul>\n",
    "        </li>\n",
    "    </ul>\n",
    "</div>"
   ]
  }
 ],
 "metadata": {
  "kernelspec": {
   "display_name": "Python 3 (ipykernel)",
   "language": "python",
   "name": "python3"
  },
  "language_info": {
   "codemirror_mode": {
    "name": "ipython",
    "version": 3
   },
   "file_extension": ".py",
   "mimetype": "text/x-python",
   "name": "python",
   "nbconvert_exporter": "python",
   "pygments_lexer": "ipython3",
   "version": "3.8.10"
  }
 },
 "nbformat": 4,
 "nbformat_minor": 5
}
