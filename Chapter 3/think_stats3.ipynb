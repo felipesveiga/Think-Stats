{
 "cells": [
  {
   "cell_type": "markdown",
   "id": "580aed2f-9b8c-4a9a-92cb-134fc05cb4b6",
   "metadata": {},
   "source": [
    "<h1 style='font-size:40px'> Probability Mass Functions</h1>"
   ]
  },
  {
   "cell_type": "markdown",
   "id": "aa46c675-3c0f-49cf-b003-f8b7e3168c31",
   "metadata": {},
   "source": [
    "<h2 style='font-size:30px;font-style:italic'> Pmfs</h2>\n",
    "<div> \n",
    "    <ul style='font-size:20px'> \n",
    "        <li> \n",
    "            As Probability Mass Functions (Pmfs) mapeiam valores a suas respectivas frequências relativas (probabilities, em inglês).\n",
    "        </li>\n",
    "    </ul>\n",
    "</div>"
   ]
  },
  {
   "cell_type": "code",
   "execution_count": 36,
   "id": "6d239afd-75fe-4b2b-a6a7-4ecb1e4b2b2e",
   "metadata": {},
   "outputs": [],
   "source": [
    "from nsfg import ReadFemPreg\n",
    "\n",
    "# Obtendo apenas os bebês nascidos vivos.\n",
    "live = ReadFemPreg().query('outcome==1')\n",
    "first_others = live.copy()\n",
    "first_others['birthord']=np.where(first_others['birthord']==1, 'First', 'Other')"
   ]
  },
  {
   "cell_type": "markdown",
   "id": "04fc453a-7fc7-49c9-930a-1d4d5f221a3f",
   "metadata": {},
   "source": [
    "<h2 style='font-size:30px;font-style:italic'> Plotting Pmfs</h2>"
   ]
  },
  {
   "cell_type": "code",
   "execution_count": 40,
   "id": "20ecc3cb-ba26-47d0-8678-f060be0f611f",
   "metadata": {},
   "outputs": [
    {
     "data": {
      "text/plain": [
       "<AxesSubplot:xlabel='prglngth', ylabel='Probability'>"
      ]
     },
     "execution_count": 40,
     "metadata": {},
     "output_type": "execute_result"
    },
    {
     "data": {
      "image/png": "[encoded data removed]",
      "text/plain": [
       "<Figure size 432x288 with 1 Axes>"
      ]
     },
     "metadata": {
      "needs_background": "light"
     },
     "output_type": "display_data"
    }
   ],
   "source": [
    "from seaborn import histplot\n",
    "histplot(x=first_others.prglngth, hue=first_others.birthord,stat='probability',multiple='dodge')"
   ]
  },
  {
   "cell_type": "markdown",
   "id": "0ea86ddc-cd3b-4e53-8a45-fec601fef639",
   "metadata": {},
   "source": [
    "<h2 style='font-size:30px'> Exercises</h2>\n",
    "<h2 style='font-size:30px;font-style:italic'> 3-3</h2>"
   ]
  },
  {
   "cell_type": "code",
   "execution_count": 97,
   "id": "974e1594-8054-492f-a7ce-34fb9f23be23",
   "metadata": {},
   "outputs": [],
   "source": [
    "no_children = live.groupby('caseid')['birthord'].size()\n",
    "one_more = live.iloc[[i for i in range(len(live)) if live.iloc[i, 0] in no_children[no_children>1].index]]"
   ]
  },
  {
   "cell_type": "code",
   "execution_count": 103,
   "id": "efaed49b-0eba-471e-94e6-c9b119d53959",
   "metadata": {},
   "outputs": [
    {
     "data": {
      "text/plain": [
       "(38.62282533054976, 38.52291446673706)"
      ]
     },
     "execution_count": 103,
     "metadata": {},
     "output_type": "execute_result"
    }
   ],
   "source": [
    "first_one_more = one_more[one_more.birthord==1].prglngth\n",
    "others_one_more = one_more[~(one_more.birthord==1)].prglngth\n",
    "\n",
    "first_one_more.mean(), others_one_more.mean()"
   ]
  },
  {
   "cell_type": "markdown",
   "id": "4274b1b8-f9e4-4175-b847-3f4a42145e1e",
   "metadata": {},
   "source": [
    "<p style='color:red'> Capítulo 4"
   ]
  }
 ],
 "metadata": {
  "kernelspec": {
   "display_name": "Python 3",
   "language": "python",
   "name": "python3"
  },
  "language_info": {
   "codemirror_mode": {
    "name": "ipython",
    "version": 3
   },
   "file_extension": ".py",
   "mimetype": "text/x-python",
   "name": "python",
   "nbconvert_exporter": "python",
   "pygments_lexer": "ipython3",
   "version": "3.8.8"
  }
 },
 "nbformat": 4,
 "nbformat_minor": 5
}
